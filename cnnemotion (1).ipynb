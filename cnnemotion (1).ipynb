{
  "nbformat": 4,
  "nbformat_minor": 0,
  "metadata": {
    "kernelspec": {
      "display_name": "Python 3",
      "language": "python",
      "name": "python3"
    },
    "language_info": {
      "codemirror_mode": {
        "name": "ipython",
        "version": 3
      },
      "file_extension": ".py",
      "mimetype": "text/x-python",
      "name": "python",
      "nbconvert_exporter": "python",
      "pygments_lexer": "ipython3",
      "version": "3.6.9"
    },
    "colab": {
      "name": "cnnemotion.ipynb",
      "provenance": [],
      "collapsed_sections": []
    }
  },
  "cells": [
    {
      "cell_type": "code",
      "metadata": {
        "id": "NRaYvuR6y4op",
        "colab_type": "code",
        "outputId": "5a180f25-d9fc-460b-afc9-7e21c163ac4b",
        "colab": {
          "base_uri": "https://localhost:8080/",
          "height": 34
        }
      },
      "source": [
        "import librosa\n",
        "import glob \n",
        "import keras\n",
        "import IPython.display as ipd\n",
        "import librosa\n",
        "import librosa.display\n",
        "import matplotlib.pyplot as plt\n",
        "import numpy as np\n",
        "import pandas as pd\n",
        "#import plotly.graph_objs as go\n",
        "#import plotly.offline as py\n",
        "#import plotly.tools as tls\n",
        "#import seaborn as sns\n",
        "import scipy.io.wavfile\n",
        "import tensorflow as tf\n",
        "#py.init_notebook_mode(connected=True)\n",
        "\n",
        "\n",
        "## Keras\n",
        "from keras import regularizers\n",
        "from keras.callbacks import ModelCheckpoint, LearningRateScheduler, EarlyStopping\n",
        "from keras.callbacks import  History, ReduceLROnPlateau, CSVLogger\n",
        "from keras.models import Model, Sequential\n",
        "from keras.layers import Dense, Embedding, LSTM\n",
        "from keras.layers import Input, Flatten, Dropout, Activation, BatchNormalization\n",
        "from keras.layers import Conv1D, MaxPooling1D, AveragePooling1D\n",
        "from keras.preprocessing import sequence\n",
        "from keras.preprocessing.sequence import pad_sequences\n",
        "from keras.preprocessing.text import Tokenizer\n",
        "from keras.utils import np_utils\n",
        "from keras.utils import to_categorical\n",
        "\n"
      ],
      "execution_count": 0,
      "outputs": [
        {
          "output_type": "stream",
          "text": [
            "Using TensorFlow backend.\n"
          ],
          "name": "stderr"
        }
      ]
    },
    {
      "cell_type": "code",
      "metadata": {
        "id": "VVhfHrUqy4pI",
        "colab_type": "code",
        "colab": {}
      },
      "source": [
        "from sklearn.metrics import confusion_matrix\n",
        "from sklearn.preprocessing import LabelEncoder\n",
        "\n",
        "\n",
        "## Rest\n",
        "from scipy.fftpack import fft\n",
        "from scipy import signal\n",
        "from scipy.io import wavfile\n",
        "#from tqdm import tqdm"
      ],
      "execution_count": 0,
      "outputs": []
    },
    {
      "cell_type": "code",
      "metadata": {
        "id": "EZqB5prM4tGL",
        "colab_type": "code",
        "outputId": "1f125736-3b2a-4f98-c37e-bdde79bd5d41",
        "colab": {
          "base_uri": "https://localhost:8080/",
          "height": 122
        }
      },
      "source": [
        "from google.colab import drive\n",
        "drive.mount('/content/gdrive')"
      ],
      "execution_count": 0,
      "outputs": [
        {
          "output_type": "stream",
          "text": [
            "Go to this URL in a browser: https://accounts.google.com/o/oauth2/auth?client_id=947318989803-6bn6qk8qdgf4n4g3pfee6491hc0brc4i.apps.googleusercontent.com&redirect_uri=urn%3aietf%3awg%3aoauth%3a2.0%3aoob&response_type=code&scope=email%20https%3a%2f%2fwww.googleapis.com%2fauth%2fdocs.test%20https%3a%2f%2fwww.googleapis.com%2fauth%2fdrive%20https%3a%2f%2fwww.googleapis.com%2fauth%2fdrive.photos.readonly%20https%3a%2f%2fwww.googleapis.com%2fauth%2fpeopleapi.readonly\n",
            "\n",
            "Enter your authorization code:\n",
            "··········\n",
            "Mounted at /content/gdrive\n"
          ],
          "name": "stdout"
        }
      ]
    },
    {
      "cell_type": "code",
      "metadata": {
        "id": "olml4JrRy4pO",
        "colab_type": "code",
        "colab": {}
      },
      "source": [
        "samples, sample_rate = librosa.load('/content/gdrive/My Drive/TESS Toronto emotional speech set data/angry/OAF_back_angry.wav')"
      ],
      "execution_count": 0,
      "outputs": []
    },
    {
      "cell_type": "code",
      "metadata": {
        "id": "AWo9qHtay4pS",
        "colab_type": "code",
        "colab": {}
      },
      "source": [
        "def log_specgram(audio, sample_rate, window_size=20,\n",
        "                 step_size=10, eps=1e-10):\n",
        "    nperseg = int(round(window_size * sample_rate / 1e3))\n",
        "    noverlap = int(round(step_size * sample_rate / 1e3))\n",
        "    freqs, times, spec = signal.spectrogram(audio,\n",
        "                                    fs=sample_rate,\n",
        "                                    window='hann',\n",
        "                                    nperseg=nperseg,\n",
        "                                    noverlap=noverlap,\n",
        "                                    detrend=False)\n",
        "    return freqs, times, np.log(spec.T.astype(np.float32) + eps)"
      ],
      "execution_count": 0,
      "outputs": []
    },
    {
      "cell_type": "code",
      "metadata": {
        "id": "IykkUBugy4pW",
        "colab_type": "code",
        "colab": {}
      },
      "source": [
        "aa , bb = librosa.effects.trim(samples, top_db=30)"
      ],
      "execution_count": 0,
      "outputs": []
    },
    {
      "cell_type": "code",
      "metadata": {
        "id": "o-AH_H-Ay4pb",
        "colab_type": "code",
        "outputId": "bb916ded-1398-4f67-fc26-b81f1144d2c8",
        "colab": {
          "base_uri": "https://localhost:8080/",
          "height": 252
        }
      },
      "source": [
        "S = librosa.feature.melspectrogram(aa, sr=sample_rate, n_mels=128)\n",
        "\n",
        "# Convert to log scale (dB). We'll use the peak power (max) as reference.\n",
        "log_S = librosa.power_to_db(S, ref=np.max)\n",
        "\n",
        "plt.figure(figsize=(12, 4))\n",
        "image=librosa.display.specshow(log_S, sr=sample_rate)\n",
        "#plt.title('Mel power spectrogram ')\n",
        "#plt.colorbar(format='%+02.0f dB')\n",
        "#plt.tight_layout()"
      ],
      "execution_count": 0,
      "outputs": [
        {
          "output_type": "display_data",
          "data": {
            "image/png": "[encoded data removed]",
            "text/plain": [
              "<Figure size 864x288 with 1 Axes>"
            ]
          },
          "metadata": {
            "tags": []
          }
        }
      ]
    },
    {
      "cell_type": "code",
      "metadata": {
        "id": "QjVrjND2y4ph",
        "colab_type": "code",
        "outputId": "fa5b6b30-9040-45b3-f062-103aafbebe25",
        "colab": {}
      },
      "source": [
        ""
      ],
      "execution_count": 0,
      "outputs": [
        {
          "output_type": "execute_result",
          "data": {
            "text/plain": [
              "array(<matplotlib.axes._subplots.AxesSubplot object at 0x7f2de17898>,\n",
              "      dtype=object)"
            ]
          },
          "metadata": {
            "tags": []
          },
          "execution_count": 25
        }
      ]
    },
    {
      "cell_type": "code",
      "metadata": {
        "id": "fn-rE-qny4pm",
        "colab_type": "code",
        "colab": {}
      },
      "source": [
        "import os\n",
        "os.mkdir('/content/gdrive/My Drive/TESS Toronto emotional speech set data/train')\n",
        "file_list=['angry','disgust','fear','Happy','neutral','Pleasant_surprise','Sad']\n",
        "for f in file_list:\n",
        "  os.chdir('/content/gdrive/My Drive/TESS Toronto emotional speech set data/'+ f)#angry,fear,sad,happy,surprise,neutral\n",
        "  os.mkdir('/content/gdrive/My Drive/TESS Toronto emotional speech set data/train/'+f)\n",
        "  counter=0\n",
        "  path_file='/content/gdrive/My Drive/TESS Toronto emotional speech set data/'+ f\n",
        "  for file in os.listdir(r'/content/gdrive/My Drive/TESS Toronto emotional speech set data/'+ f):\n",
        "      samples, sample_rate = librosa.load(os.path.join(path_file,file))\n",
        "      aa , bb = librosa.effects.trim(samples, top_db=30)\n",
        "      S = librosa.feature.melspectrogram(aa, sr=sample_rate, n_mels=128)\n",
        "\n",
        "# Convert to log scale (dB). We'll use the peak power (max) as reference.\n",
        "      log_S = librosa.power_to_db(S, ref=np.max)\n",
        "      plt.figure(figsize=(12, 4))\n",
        "      img = librosa.display.specshow(log_S, sr=sample_rate)\n",
        "      file_name = f+'.'+str(counter)+'.jpg'\n",
        "      plt.savefig('/content/gdrive/My Drive/TESS Toronto emotional speech set data/train/'+f+'/'+file_name)\n",
        "      counter+=1"
      ],
      "execution_count": 0,
      "outputs": []
    },
    {
      "cell_type": "code",
      "metadata": {
        "id": "DWxgI5pYA4Ka",
        "colab_type": "code",
        "outputId": "bba68d9b-484d-4013-ac2a-e2b8d38043fe",
        "colab": {
          "base_uri": "https://localhost:8080/",
          "height": 71
        }
      },
      "source": [
        "print( os.getcwd() )\n",
        "print( os.listdir() )"
      ],
      "execution_count": 0,
      "outputs": [
        {
          "output_type": "stream",
          "text": [
            "/content/gdrive/My Drive/TESS Toronto emotional speech set data/disgust\n",
            "['OAF_home_disgust.wav', 'OAF_check_disgust.wav', 'OAF_jar_disgust.wav', 'OAF_hole_disgust.wav', 'OAF_have_disgust.wav', 'OAF_hall_disgust.wav', 'OAF_bath_disgust.wav', 'OAF_fit_disgust.wav', 'OAF_doll_disgust.wav', 'OAF_book_disgust.wav', 'OAF_fail_disgust.wav', 'OAF_five_disgust.wav', 'OAF_dodge_disgust.wav', 'OAF_bone_disgust.wav', 'OAF_gun_disgust.wav', 'OAF_far_disgust.wav', 'OAF_cab_disgust.wav', 'OAF_good_disgust.wav', 'OAF_beg_disgust.wav', 'OAF_dab_disgust.wav', 'OAF_gap_disgust.wav', 'OAF_choice_disgust.wav', 'OAF_chain_disgust.wav', 'OAF_food_disgust.wav', 'OAF_bite_disgust.wav', 'OAF_bought_disgust.wav', 'OAF_goose_disgust.wav', 'OAF_get_disgust.wav', 'OAF_dip_disgust.wav', 'OAF_ditch_disgust.wav', 'OAF_gas_disgust.wav', 'OAF_goal_disgust.wav', 'OAF_cause_disgust.wav', 'OAF_jail_disgust.wav', 'OAF_dog_disgust.wav', 'OAF_deep_disgust.wav', 'OAF_chief_disgust.wav', 'OAF_gaze_disgust.wav', 'OAF_calm_disgust.wav', 'OAF_death_disgust.wav', 'OAF_date_disgust.wav', 'OAF_back_disgust.wav', 'OAF_door_disgust.wav', 'OAF_dime_disgust.wav', 'OAF_hire_disgust.wav', 'OAF_hurl_disgust.wav', 'OAF_boat_disgust.wav', 'OAF_chalk_disgust.wav', 'OAF_haze_disgust.wav', 'OAF_fat_disgust.wav', 'OAF_cheek_disgust.wav', 'OAF_base_disgust.wav', 'OAF_gin_disgust.wav', 'OAF_burn_disgust.wav', 'OAF_hit_disgust.wav', 'OAF_judge_disgust.wav', 'OAF_hate_disgust.wav', 'OAF_bean_disgust.wav', 'OAF_dead_disgust.wav', 'OAF_chair_disgust.wav', 'OAF_hash_disgust.wav', 'OAF_chat_disgust.wav', 'OAF_germ_disgust.wav', 'OAF_cool_disgust.wav', 'OAF_came_disgust.wav', 'OAF_join_disgust.wav', 'OAF_fall_disgust.wav', 'OAF_half_disgust.wav', 'OAF_bar_disgust.wav', 'OAF_hush_disgust.wav', 'OAF_should_disgust.wav', 'OAF_tip_disgust.wav', 'OAF_size_disgust.wav', 'OAF_witch_disgust.wav', 'OAF_lose_disgust.wav', 'OAF_mob_disgust.wav', 'OAF_kick_disgust.wav', 'OAF_take_disgust.wav', 'OAF_tool_disgust.wav', 'OAF_red_disgust.wav', 'OAF_sell_disgust.wav', 'OAF_juice_disgust.wav', 'OAF_south_disgust.wav', 'OAF_mood_disgust.wav', 'OAF_vine_disgust.wav', 'OAF_live_disgust.wav', 'OAF_voice_disgust.wav', 'OAF_tire_disgust.wav', 'OAF_rough_disgust.wav', 'OAF_nice_disgust.wav', 'OAF_pass_disgust.wav', 'OAF_young_disgust.wav', 'OAF_thin_disgust.wav', 'OAF_laud_disgust.wav', 'OAF_which_disgust.wav', 'OAF_merge_disgust.wav', 'OAF_keep_disgust.wav', 'OAF_nag_disgust.wav', 'OAF_shout_disgust.wav', 'OAF_limb_disgust.wav', 'OAF_rag_disgust.wav', 'OAF_third_disgust.wav', 'OAF_sour_disgust.wav', 'OAF_seize_disgust.wav', 'OAF_kill_disgust.wav', 'OAF_pad_disgust.wav', 'OAF_long_disgust.wav', 'OAF_wash_disgust.wav', 'OAF_met_disgust.wav', 'OAF_rain_disgust.wav', 'OAF_rat_disgust.wav', 'OAF_numb_disgust.wav', 'OAF_shirt_disgust.wav', 'OAF_time_disgust.wav', 'OAF_sheep_disgust.wav', 'OAF_near_disgust.wav', 'OAF_lot_disgust.wav', 'OAF_road_disgust.wav', 'OAF_team_disgust.wav', 'OAF_knock_disgust.wav', 'OAF_life_disgust.wav', 'OAF_void_disgust.wav', 'OAF_moon_disgust.wav', 'OAF_pearl_disgust.wav', 'OAF_when_disgust.wav', 'OAF_mess_disgust.wav', 'OAF_yes_disgust.wav', 'OAF_shawl_disgust.wav', 'OAF_page_disgust.wav', 'OAF_raid_disgust.wav', 'OAF_shack_disgust.wav', 'OAF_king_disgust.wav', 'OAF_tell_disgust.wav', 'OAF_said_disgust.wav', 'OAF_such_disgust.wav', 'OAF_wire_disgust.wav', 'OAF_ton_disgust.wav', 'OAF_kite_disgust.wav', 'OAF_neat_disgust.wav', 'OAF_vote_disgust.wav', 'OAF_pool_disgust.wav', 'OAF_match_disgust.wav', 'OAF_rose_disgust.wav', 'OAF_week_disgust.wav', 'OAF_name_disgust.wav', 'OAF_lean_disgust.wav', 'OAF_tough_disgust.wav', 'OAF_puff_disgust.wav', 'OAF_keg_disgust.wav', 'OAF_ring_disgust.wav', 'OAF_make_disgust.wav', 'OAF_talk_disgust.wav', 'OAF_jug_disgust.wav', 'OAF_phone_disgust.wav', 'OAF_youth_disgust.wav', 'OAF_mouse_disgust.wav', 'OAF_love_disgust.wav', 'OAF_white_disgust.wav', 'OAF_raise_disgust.wav', 'OAF_shall_disgust.wav', 'OAF_thumb_disgust.wav', 'OAF_peg_disgust.wav', 'OAF_walk_disgust.wav', 'OAF_lore_disgust.wav', 'OAF_wife_disgust.wav', 'OAF_learn_disgust.wav', 'OAF_wheat_disgust.wav', 'OAF_ripe_disgust.wav', 'OAF_thought_disgust.wav', 'OAF_loaf_disgust.wav', 'OAF_search_disgust.wav', 'OAF_mill_disgust.wav', 'OAF_reach_disgust.wav', 'OAF_note_disgust.wav', 'OAF_luck_disgust.wav', 'OAF_pole_disgust.wav', 'OAF_turn_disgust.wav', 'OAF_keen_disgust.wav', 'OAF_tape_disgust.wav', 'OAF_mop_disgust.wav', 'OAF_wag_disgust.wav', 'OAF_read_disgust.wav', 'OAF_mode_disgust.wav', 'OAF_sub_disgust.wav', 'OAF_pain_disgust.wav', 'OAF_lid_disgust.wav', 'OAF_pick_disgust.wav', 'OAF_soap_disgust.wav', 'OAF_pike_disgust.wav', 'OAF_sure_disgust.wav', 'OAF_lease_disgust.wav', 'OAF_yearn_disgust.wav', 'OAF_perch_disgust.wav', 'OAF_room_disgust.wav', 'OAF_rot_disgust.wav', 'OAF_sail_disgust.wav', 'OAF_soup_disgust.wav', 'OAF_late_disgust.wav', 'OAF_rush_disgust.wav', 'OAF_whip_disgust.wav', 'YAF_boat_disgust.wav', 'YAF_burn_disgust.wav', 'YAF_bar_disgust.wav', 'YAF_hash_disgust.wav', 'YAF_doll_disgust.wav', 'YAF_gaze_disgust.wav', 'YAF_bought_disgust.wav', 'YAF_gun_disgust.wav', 'YAF_dodge_disgust.wav', 'YAF_five_disgust.wav', 'YAF_beg_disgust.wav', 'YAF_dip_disgust.wav', 'YAF_hall_disgust.wav', 'YAF_fall_disgust.wav', 'YAF_fat_disgust.wav', 'YAF_chalk_disgust.wav', 'YAF_get_disgust.wav', 'YAF_chat_disgust.wav', 'YAF_haze_disgust.wav', 'YAF_bone_disgust.wav', 'YAF_gas_disgust.wav', 'YAF_fit_disgust.wav', 'YAF_cab_disgust.wav', 'YAF_have_disgust.wav', 'YAF_bite_disgust.wav', 'YAF_ditch_disgust.wav', 'YAF_book_disgust.wav', 'YAF_cause_disgust.wav', 'YAF_dog_disgust.wav', 'YAF_dead_disgust.wav', 'YAF_cheek_disgust.wav', 'YAF_goose_disgust.wav', 'YAF_bath_disgust.wav', 'YAF_date_disgust.wav', 'YAF_fail_disgust.wav', 'YAF_check_disgust.wav', 'YAF_cool_disgust.wav', 'YAF_gin_disgust.wav', 'YAF_dime_disgust.wav', 'YAF_half_disgust.wav', 'YAF_hate_disgust.wav', 'YAF_gap_disgust.wav', 'YAF_bean_disgust.wav', 'YAF_chain_disgust.wav', 'YAF_back_disgust.wav', 'YAF_choice_disgust.wav', 'YAF_chair_disgust.wav', 'YAF_good_disgust.wav', 'YAF_food_disgust.wav', 'YAF_came_disgust.wav', 'YAF_deep_disgust.wav', 'YAF_death_disgust.wav', 'YAF_far_disgust.wav', 'YAF_base_disgust.wav', 'YAF_germ_disgust.wav', 'YAF_dab_disgust.wav', 'YAF_door_disgust.wav', 'YAF_calm_disgust.wav', 'YAF_goal_disgust.wav', 'YAF_chief_disgust.wav', 'YAF_tape_disgust.wav', 'YAF_shirt_disgust.wav', 'YAF_met_disgust.wav', 'YAF_shawl_disgust.wav', 'YAF_ripe_disgust.wav', 'YAF_walk_disgust.wav', 'YAF_read_disgust.wav', 'YAF_room_disgust.wav', 'YAF_pad_disgust.wav', 'YAF_hurl_disgust.wav', 'YAF_south_disgust.wav', 'YAF_name_disgust.wav', 'YAF_team_disgust.wav', 'YAF_such_disgust.wav', 'YAF_nag_disgust.wav', 'YAF_white_disgust.wav', 'YAF_mop_disgust.wav', 'YAF_laud_disgust.wav', 'YAF_puff_disgust.wav', 'YAF_juice_disgust.wav', 'YAF_thumb_disgust.wav', 'YAF_whip_disgust.wav', 'YAF_should_disgust.wav', 'YAF_hush_disgust.wav', 'YAF_vine_disgust.wav', 'YAF_phone_disgust.wav', 'YAF_jug_disgust.wav', 'YAF_wag_disgust.wav', 'YAF_king_disgust.wav', 'YAF_love_disgust.wav', 'YAF_search_disgust.wav', 'YAF_kite_disgust.wav', 'YAF_said_disgust.wav', 'YAF_rough_disgust.wav', 'YAF_hole_disgust.wav', 'YAF_home_disgust.wav', 'YAF_soap_disgust.wav', 'YAF_lease_disgust.wav', 'YAF_page_disgust.wav', 'YAF_mood_disgust.wav', 'YAF_rat_disgust.wav', 'YAF_judge_disgust.wav', 'YAF_keep_disgust.wav', 'YAF_mob_disgust.wav', 'YAF_shall_disgust.wav', 'YAF_lean_disgust.wav', 'YAF_rag_disgust.wav', 'YAF_merge_disgust.wav', 'YAF_live_disgust.wav', 'YAF_mill_disgust.wav', 'YAF_take_disgust.wav', 'YAF_hit_disgust.wav', 'YAF_limb_disgust.wav', 'YAF_rush_disgust.wav', 'YAF_mode_disgust.wav', 'YAF_long_disgust.wav', 'YAF_wash_disgust.wav', 'YAF_wife_disgust.wav', 'YAF_shack_disgust.wav', 'YAF_tough_disgust.wav', 'YAF_life_disgust.wav', 'YAF_tire_disgust.wav', 'YAF_pool_disgust.wav', 'YAF_match_disgust.wav', 'YAF_tool_disgust.wav', 'YAF_road_disgust.wav', 'YAF_voice_disgust.wav', 'YAF_tell_disgust.wav', 'YAF_red_disgust.wav', 'YAF_time_disgust.wav', 'YAF_reach_disgust.wav', 'YAF_vote_disgust.wav', 'YAF_note_disgust.wav', 'YAF_luck_disgust.wav', 'YAF_moon_disgust.wav', 'YAF_mouse_disgust.wav', 'YAF_rot_disgust.wav', 'YAF_lot_disgust.wav', 'YAF_pearl_disgust.wav', 'YAF_learn_disgust.wav', 'YAF_pain_disgust.wav', 'YAF_near_disgust.wav', 'YAF_jar_disgust.wav', 'YAF_raid_disgust.wav', 'YAF_sheep_disgust.wav', 'YAF_keg_disgust.wav', 'YAF_rain_disgust.wav', 'YAF_sub_disgust.wav', 'YAF_shout_disgust.wav', 'YAF_lid_disgust.wav', 'YAF_which_disgust.wav', 'YAF_pole_disgust.wav', 'YAF_make_disgust.wav', 'YAF_talk_disgust.wav', 'YAF_tip_disgust.wav', 'YAF_pick_disgust.wav', 'YAF_third_disgust.wav', 'YAF_rose_disgust.wav', 'YAF_nice_disgust.wav', 'YAF_knock_disgust.wav', 'YAF_sour_disgust.wav', 'YAF_soup_disgust.wav', 'YAF_thought_disgust.wav', 'YAF_loaf_disgust.wav', 'YAF_pike_disgust.wav', 'YAF_sure_disgust.wav', 'YAF_neat_disgust.wav', 'YAF_hire_disgust.wav', 'YAF_lose_disgust.wav', 'YAF_ton_disgust.wav', 'YAF_thin_disgust.wav', 'YAF_void_disgust.wav', 'YAF_join_disgust.wav', 'YAF_pass_disgust.wav', 'YAF_numb_disgust.wav', 'YAF_kill_disgust.wav', 'YAF_seize_disgust.wav', 'YAF_when_disgust.wav', 'YAF_week_disgust.wav', 'YAF_size_disgust.wav', 'YAF_sell_disgust.wav', 'YAF_peg_disgust.wav', 'YAF_raise_disgust.wav', 'YAF_lore_disgust.wav', 'YAF_kick_disgust.wav', 'YAF_jail_disgust.wav', 'YAF_wheat_disgust.wav', 'YAF_sail_disgust.wav', 'YAF_perch_disgust.wav', 'YAF_keen_disgust.wav', 'YAF_turn_disgust.wav', 'YAF_mess_disgust.wav', 'YAF_late_disgust.wav', 'YAF_ring_disgust.wav', 'YAF_yes_disgust.wav', 'YAF_yearn_disgust.wav', 'YAF_wire_disgust.wav', 'YAF_young_disgust.wav', 'YAF_youth_disgust.wav', 'YAF_witch_disgust.wav', '0.jpg', '1.jpg', '2.jpg', '3.jpg', '4.jpg', '5.jpg', '6.jpg', '7.jpg', '8.jpg', '9.jpg', '10.jpg', '11.jpg', '12.jpg', '13.jpg', '14.jpg', '15.jpg', '16.jpg', '17.jpg', '18.jpg', '19.jpg', '20.jpg', '21.jpg', '22.jpg', '23.jpg', '24.jpg', '25.jpg', '26.jpg', '27.jpg', '28.jpg', '29.jpg', '30.jpg', '31.jpg', '32.jpg', '33.jpg', '34.jpg', '35.jpg', '36.jpg', '37.jpg', '38.jpg', '39.jpg', '40.jpg', '41.jpg', '42.jpg', '43.jpg', '44.jpg', '45.jpg', '46.jpg', '47.jpg', '48.jpg', '49.jpg', '50.jpg', '51.jpg', '52.jpg', '53.jpg', '54.jpg', '55.jpg', '56.jpg', '57.jpg', '58.jpg', '59.jpg', '60.jpg', '61.jpg', '62.jpg', '63.jpg', '64.jpg', '65.jpg', '66.jpg', '67.jpg', '68.jpg', '69.jpg', '70.jpg', '71.jpg', '72.jpg', '73.jpg', '74.jpg', '75.jpg', '76.jpg', '77.jpg', '78.jpg', '79.jpg', '80.jpg', '81.jpg', '82.jpg', '83.jpg', '84.jpg', '85.jpg', '86.jpg', '87.jpg', '88.jpg', '89.jpg', '90.jpg', '91.jpg', '92.jpg', '93.jpg', '94.jpg', '95.jpg', '96.jpg', '97.jpg', '98.jpg', '99.jpg', '100.jpg', '101.jpg', '102.jpg', '103.jpg', '104.jpg', '105.jpg', '106.jpg', '107.jpg', '108.jpg', '109.jpg', '110.jpg', '111.jpg', '112.jpg', '113.jpg', '114.jpg', '115.jpg', '116.jpg', '117.jpg', '118.jpg', '119.jpg', '120.jpg', '121.jpg', '122.jpg', '123.jpg', '124.jpg', '125.jpg', '126.jpg', '127.jpg', '128.jpg', '129.jpg', '130.jpg', '131.jpg', '132.jpg', '133.jpg', '134.jpg', '135.jpg', '136.jpg', '137.jpg', '138.jpg', '139.jpg', '140.jpg', '141.jpg', '142.jpg', '143.jpg', '144.jpg', '145.jpg', '146.jpg', '147.jpg', '148.jpg', '149.jpg', '150.jpg', '151.jpg', '152.jpg', '153.jpg', '154.jpg', '155.jpg', '156.jpg', '157.jpg', '158.jpg', '159.jpg', '160.jpg', '161.jpg', '162.jpg', '163.jpg', '164.jpg', '165.jpg', '166.jpg', '167.jpg', '168.jpg', '169.jpg', '170.jpg', '171.jpg', '172.jpg', '173.jpg', '174.jpg', '175.jpg', '176.jpg', '177.jpg', '178.jpg', '179.jpg', '180.jpg', '181.jpg', '182.jpg', '183.jpg', '184.jpg', '185.jpg', '186.jpg', '187.jpg', '188.jpg', '189.jpg', '190.jpg', '191.jpg', '192.jpg', '193.jpg', '194.jpg', '195.jpg', '196.jpg', '197.jpg', '198.jpg', '199.jpg', '200.jpg', '201.jpg', '202.jpg', '203.jpg', '204.jpg', '205.jpg', '206.jpg', '207.jpg', '208.jpg', '209.jpg', '210.jpg', '211.jpg', '212.jpg', '213.jpg', '214.jpg', '215.jpg', '216.jpg', '217.jpg', '218.jpg', '219.jpg', '220.jpg', '221.jpg', '222.jpg', '223.jpg', '224.jpg', '225.jpg', '226.jpg', '227.jpg', '228.jpg', '229.jpg', '230.jpg', '231.jpg', '232.jpg', '233.jpg', '234.jpg', '235.jpg', '236.jpg', '237.jpg', '238.jpg', '239.jpg', '240.jpg', '241.jpg', '242.jpg', '243.jpg', '244.jpg', '245.jpg', '246.jpg', '247.jpg', '248.jpg', '249.jpg', '250.jpg', '251.jpg', '252.jpg', '253.jpg', '254.jpg', '255.jpg', '256.jpg', '257.jpg', '258.jpg', '259.jpg', '260.jpg', '261.jpg', '262.jpg', '263.jpg', '264.jpg', '265.jpg', '266.jpg', '267.jpg', '268.jpg', '269.jpg', '270.jpg', '271.jpg', '272.jpg', '273.jpg', '274.jpg', '275.jpg', '276.jpg', '277.jpg', '278.jpg', '279.jpg', '280.jpg', '281.jpg', '282.jpg', '283.jpg', '284.jpg', '285.jpg', '286.jpg', '287.jpg', '288.jpg', '289.jpg', '290.jpg', '291.jpg', '292.jpg', '293.jpg', '294.jpg', '295.jpg', '296.jpg', '297.jpg', '298.jpg', '299.jpg', '300.jpg', '301.jpg', '302.jpg', '303.jpg', '304.jpg', '305.jpg', '306.jpg', '307.jpg', '308.jpg', '309.jpg', '310.jpg', '311.jpg', '312.jpg', '313.jpg', '314.jpg', '315.jpg', '316.jpg', '317.jpg', '318.jpg', '319.jpg', '320.jpg', '321.jpg', '322.jpg', '323.jpg', '324.jpg', '325.jpg', '326.jpg', '327.jpg', '328.jpg', '329.jpg', '330.jpg', '331.jpg', '332.jpg', '333.jpg', '334.jpg', '335.jpg', '336.jpg', '337.jpg', '338.jpg', '339.jpg', '340.jpg', '341.jpg', '342.jpg', '343.jpg', '344.jpg', '345.jpg', '346.jpg', '347.jpg', '348.jpg', '349.jpg', '350.jpg', '351.jpg', '352.jpg', '353.jpg', '354.jpg', '355.jpg', '356.jpg', '357.jpg', '358.jpg', '359.jpg', '360.jpg', '361.jpg', '362.jpg', '363.jpg', '364.jpg', '365.jpg', '366.jpg', '367.jpg', '368.jpg', '369.jpg', '370.jpg', '371.jpg', '372.jpg', '373.jpg', '374.jpg', '375.jpg', '376.jpg', '377.jpg', '378.jpg', '379.jpg', '380.jpg', '381.jpg', '382.jpg', '383.jpg', '384.jpg', '385.jpg', '386.jpg', '387.jpg', '388.jpg', '389.jpg', '390.jpg', '391.jpg', '392.jpg', '393.jpg', '394.jpg', '395.jpg', '396.jpg', '397.jpg', '398.jpg', '399.jpg']\n"
          ],
          "name": "stdout"
        }
      ]
    },
    {
      "cell_type": "code",
      "metadata": {
        "id": "o-e9ITpiy4pu",
        "colab_type": "code",
        "outputId": "176f49b2-9a91-4d40-8a39-cc097380e554",
        "colab": {
          "base_uri": "https://localhost:8080/",
          "height": 54
        }
      },
      "source": [
        "# folders=['fear','sad','happy','disgust','Pleasent-surprise','neutral']\n",
        "# dir_path='/content/gdrive/My Drive/TESS Toronto emotional speech set data'\n",
        "# for f in folders:\n",
        "#     os.mkdir(os.path.join(dir_path,f))\n",
        "print(os.listdir())"
      ],
      "execution_count": 0,
      "outputs": [
        {
          "output_type": "stream",
          "text": [
            "['OAF_home_disgust.wav', 'OAF_check_disgust.wav', 'OAF_jar_disgust.wav', 'OAF_hole_disgust.wav', 'OAF_have_disgust.wav', 'OAF_hall_disgust.wav', 'OAF_bath_disgust.wav', 'OAF_fit_disgust.wav', 'OAF_doll_disgust.wav', 'OAF_book_disgust.wav', 'OAF_fail_disgust.wav', 'OAF_five_disgust.wav', 'OAF_dodge_disgust.wav', 'OAF_bone_disgust.wav', 'OAF_gun_disgust.wav', 'OAF_far_disgust.wav', 'OAF_cab_disgust.wav', 'OAF_good_disgust.wav', 'OAF_beg_disgust.wav', 'OAF_dab_disgust.wav', 'OAF_gap_disgust.wav', 'OAF_choice_disgust.wav', 'OAF_chain_disgust.wav', 'OAF_food_disgust.wav', 'OAF_bite_disgust.wav', 'OAF_bought_disgust.wav', 'OAF_goose_disgust.wav', 'OAF_get_disgust.wav', 'OAF_dip_disgust.wav', 'OAF_ditch_disgust.wav', 'OAF_gas_disgust.wav', 'OAF_goal_disgust.wav', 'OAF_cause_disgust.wav', 'OAF_jail_disgust.wav', 'OAF_dog_disgust.wav', 'OAF_deep_disgust.wav', 'OAF_chief_disgust.wav', 'OAF_gaze_disgust.wav', 'OAF_calm_disgust.wav', 'OAF_death_disgust.wav', 'OAF_date_disgust.wav', 'OAF_back_disgust.wav', 'OAF_door_disgust.wav', 'OAF_dime_disgust.wav', 'OAF_hire_disgust.wav', 'OAF_hurl_disgust.wav', 'OAF_boat_disgust.wav', 'OAF_chalk_disgust.wav', 'OAF_haze_disgust.wav', 'OAF_fat_disgust.wav', 'OAF_cheek_disgust.wav', 'OAF_base_disgust.wav', 'OAF_gin_disgust.wav', 'OAF_burn_disgust.wav', 'OAF_hit_disgust.wav', 'OAF_judge_disgust.wav', 'OAF_hate_disgust.wav', 'OAF_bean_disgust.wav', 'OAF_dead_disgust.wav', 'OAF_chair_disgust.wav', 'OAF_hash_disgust.wav', 'OAF_chat_disgust.wav', 'OAF_germ_disgust.wav', 'OAF_cool_disgust.wav', 'OAF_came_disgust.wav', 'OAF_join_disgust.wav', 'OAF_fall_disgust.wav', 'OAF_half_disgust.wav', 'OAF_bar_disgust.wav', 'OAF_hush_disgust.wav', 'OAF_should_disgust.wav', 'OAF_tip_disgust.wav', 'OAF_size_disgust.wav', 'OAF_witch_disgust.wav', 'OAF_lose_disgust.wav', 'OAF_mob_disgust.wav', 'OAF_kick_disgust.wav', 'OAF_take_disgust.wav', 'OAF_tool_disgust.wav', 'OAF_red_disgust.wav', 'OAF_sell_disgust.wav', 'OAF_juice_disgust.wav', 'OAF_south_disgust.wav', 'OAF_mood_disgust.wav', 'OAF_vine_disgust.wav', 'OAF_live_disgust.wav', 'OAF_voice_disgust.wav', 'OAF_tire_disgust.wav', 'OAF_rough_disgust.wav', 'OAF_nice_disgust.wav', 'OAF_pass_disgust.wav', 'OAF_young_disgust.wav', 'OAF_thin_disgust.wav', 'OAF_laud_disgust.wav', 'OAF_which_disgust.wav', 'OAF_merge_disgust.wav', 'OAF_keep_disgust.wav', 'OAF_nag_disgust.wav', 'OAF_shout_disgust.wav', 'OAF_limb_disgust.wav', 'OAF_rag_disgust.wav', 'OAF_third_disgust.wav', 'OAF_sour_disgust.wav', 'OAF_seize_disgust.wav', 'OAF_kill_disgust.wav', 'OAF_pad_disgust.wav', 'OAF_long_disgust.wav', 'OAF_wash_disgust.wav', 'OAF_met_disgust.wav', 'OAF_rain_disgust.wav', 'OAF_rat_disgust.wav', 'OAF_numb_disgust.wav', 'OAF_shirt_disgust.wav', 'OAF_time_disgust.wav', 'OAF_sheep_disgust.wav', 'OAF_near_disgust.wav', 'OAF_lot_disgust.wav', 'OAF_road_disgust.wav', 'OAF_team_disgust.wav', 'OAF_knock_disgust.wav', 'OAF_life_disgust.wav', 'OAF_void_disgust.wav', 'OAF_moon_disgust.wav', 'OAF_pearl_disgust.wav', 'OAF_when_disgust.wav', 'OAF_mess_disgust.wav', 'OAF_yes_disgust.wav', 'OAF_shawl_disgust.wav', 'OAF_page_disgust.wav', 'OAF_raid_disgust.wav', 'OAF_shack_disgust.wav', 'OAF_king_disgust.wav', 'OAF_tell_disgust.wav', 'OAF_said_disgust.wav', 'OAF_such_disgust.wav', 'OAF_wire_disgust.wav', 'OAF_ton_disgust.wav', 'OAF_kite_disgust.wav', 'OAF_neat_disgust.wav', 'OAF_vote_disgust.wav', 'OAF_pool_disgust.wav', 'OAF_match_disgust.wav', 'OAF_rose_disgust.wav', 'OAF_week_disgust.wav', 'OAF_name_disgust.wav', 'OAF_lean_disgust.wav', 'OAF_tough_disgust.wav', 'OAF_puff_disgust.wav', 'OAF_keg_disgust.wav', 'OAF_ring_disgust.wav', 'OAF_make_disgust.wav', 'OAF_talk_disgust.wav', 'OAF_jug_disgust.wav', 'OAF_phone_disgust.wav', 'OAF_youth_disgust.wav', 'OAF_mouse_disgust.wav', 'OAF_love_disgust.wav', 'OAF_white_disgust.wav', 'OAF_raise_disgust.wav', 'OAF_shall_disgust.wav', 'OAF_thumb_disgust.wav', 'OAF_peg_disgust.wav', 'OAF_walk_disgust.wav', 'OAF_lore_disgust.wav', 'OAF_wife_disgust.wav', 'OAF_learn_disgust.wav', 'OAF_wheat_disgust.wav', 'OAF_ripe_disgust.wav', 'OAF_thought_disgust.wav', 'OAF_loaf_disgust.wav', 'OAF_search_disgust.wav', 'OAF_mill_disgust.wav', 'OAF_reach_disgust.wav', 'OAF_note_disgust.wav', 'OAF_luck_disgust.wav', 'OAF_pole_disgust.wav', 'OAF_turn_disgust.wav', 'OAF_keen_disgust.wav', 'OAF_tape_disgust.wav', 'OAF_mop_disgust.wav', 'OAF_wag_disgust.wav', 'OAF_read_disgust.wav', 'OAF_mode_disgust.wav', 'OAF_sub_disgust.wav', 'OAF_pain_disgust.wav', 'OAF_lid_disgust.wav', 'OAF_pick_disgust.wav', 'OAF_soap_disgust.wav', 'OAF_pike_disgust.wav', 'OAF_sure_disgust.wav', 'OAF_lease_disgust.wav', 'OAF_yearn_disgust.wav', 'OAF_perch_disgust.wav', 'OAF_room_disgust.wav', 'OAF_rot_disgust.wav', 'OAF_sail_disgust.wav', 'OAF_soup_disgust.wav', 'OAF_late_disgust.wav', 'OAF_rush_disgust.wav', 'OAF_whip_disgust.wav', 'YAF_boat_disgust.wav', 'YAF_burn_disgust.wav', 'YAF_bar_disgust.wav', 'YAF_hash_disgust.wav', 'YAF_doll_disgust.wav', 'YAF_gaze_disgust.wav', 'YAF_bought_disgust.wav', 'YAF_gun_disgust.wav', 'YAF_dodge_disgust.wav', 'YAF_five_disgust.wav', 'YAF_beg_disgust.wav', 'YAF_dip_disgust.wav', 'YAF_hall_disgust.wav', 'YAF_fall_disgust.wav', 'YAF_fat_disgust.wav', 'YAF_chalk_disgust.wav', 'YAF_get_disgust.wav', 'YAF_chat_disgust.wav', 'YAF_haze_disgust.wav', 'YAF_bone_disgust.wav', 'YAF_gas_disgust.wav', 'YAF_fit_disgust.wav', 'YAF_cab_disgust.wav', 'YAF_have_disgust.wav', 'YAF_bite_disgust.wav', 'YAF_ditch_disgust.wav', 'YAF_book_disgust.wav', 'YAF_cause_disgust.wav', 'YAF_dog_disgust.wav', 'YAF_dead_disgust.wav', 'YAF_cheek_disgust.wav', 'YAF_goose_disgust.wav', 'YAF_bath_disgust.wav', 'YAF_date_disgust.wav', 'YAF_fail_disgust.wav', 'YAF_check_disgust.wav', 'YAF_cool_disgust.wav', 'YAF_gin_disgust.wav', 'YAF_dime_disgust.wav', 'YAF_half_disgust.wav', 'YAF_hate_disgust.wav', 'YAF_gap_disgust.wav', 'YAF_bean_disgust.wav', 'YAF_chain_disgust.wav', 'YAF_back_disgust.wav', 'YAF_choice_disgust.wav', 'YAF_chair_disgust.wav', 'YAF_good_disgust.wav', 'YAF_food_disgust.wav', 'YAF_came_disgust.wav', 'YAF_deep_disgust.wav', 'YAF_death_disgust.wav', 'YAF_far_disgust.wav', 'YAF_base_disgust.wav', 'YAF_germ_disgust.wav', 'YAF_dab_disgust.wav', 'YAF_door_disgust.wav', 'YAF_calm_disgust.wav', 'YAF_goal_disgust.wav', 'YAF_chief_disgust.wav', 'YAF_tape_disgust.wav', 'YAF_shirt_disgust.wav', 'YAF_met_disgust.wav', 'YAF_shawl_disgust.wav', 'YAF_ripe_disgust.wav', 'YAF_walk_disgust.wav', 'YAF_read_disgust.wav', 'YAF_room_disgust.wav', 'YAF_pad_disgust.wav', 'YAF_hurl_disgust.wav', 'YAF_south_disgust.wav', 'YAF_name_disgust.wav', 'YAF_team_disgust.wav', 'YAF_such_disgust.wav', 'YAF_nag_disgust.wav', 'YAF_white_disgust.wav', 'YAF_mop_disgust.wav', 'YAF_laud_disgust.wav', 'YAF_puff_disgust.wav', 'YAF_juice_disgust.wav', 'YAF_thumb_disgust.wav', 'YAF_whip_disgust.wav', 'YAF_should_disgust.wav', 'YAF_hush_disgust.wav', 'YAF_vine_disgust.wav', 'YAF_phone_disgust.wav', 'YAF_jug_disgust.wav', 'YAF_wag_disgust.wav', 'YAF_king_disgust.wav', 'YAF_love_disgust.wav', 'YAF_search_disgust.wav', 'YAF_kite_disgust.wav', 'YAF_said_disgust.wav', 'YAF_rough_disgust.wav', 'YAF_hole_disgust.wav', 'YAF_home_disgust.wav', 'YAF_soap_disgust.wav', 'YAF_lease_disgust.wav', 'YAF_page_disgust.wav', 'YAF_mood_disgust.wav', 'YAF_rat_disgust.wav', 'YAF_judge_disgust.wav', 'YAF_keep_disgust.wav', 'YAF_mob_disgust.wav', 'YAF_shall_disgust.wav', 'YAF_lean_disgust.wav', 'YAF_rag_disgust.wav', 'YAF_merge_disgust.wav', 'YAF_live_disgust.wav', 'YAF_mill_disgust.wav', 'YAF_take_disgust.wav', 'YAF_hit_disgust.wav', 'YAF_limb_disgust.wav', 'YAF_rush_disgust.wav', 'YAF_mode_disgust.wav', 'YAF_long_disgust.wav', 'YAF_wash_disgust.wav', 'YAF_wife_disgust.wav', 'YAF_shack_disgust.wav', 'YAF_tough_disgust.wav', 'YAF_life_disgust.wav', 'YAF_tire_disgust.wav', 'YAF_pool_disgust.wav', 'YAF_match_disgust.wav', 'YAF_tool_disgust.wav', 'YAF_road_disgust.wav', 'YAF_voice_disgust.wav', 'YAF_tell_disgust.wav', 'YAF_red_disgust.wav', 'YAF_time_disgust.wav', 'YAF_reach_disgust.wav', 'YAF_vote_disgust.wav', 'YAF_note_disgust.wav', 'YAF_luck_disgust.wav', 'YAF_moon_disgust.wav', 'YAF_mouse_disgust.wav', 'YAF_rot_disgust.wav', 'YAF_lot_disgust.wav', 'YAF_pearl_disgust.wav', 'YAF_learn_disgust.wav', 'YAF_pain_disgust.wav', 'YAF_near_disgust.wav', 'YAF_jar_disgust.wav', 'YAF_raid_disgust.wav', 'YAF_sheep_disgust.wav', 'YAF_keg_disgust.wav', 'YAF_rain_disgust.wav', 'YAF_sub_disgust.wav', 'YAF_shout_disgust.wav', 'YAF_lid_disgust.wav', 'YAF_which_disgust.wav', 'YAF_pole_disgust.wav', 'YAF_make_disgust.wav', 'YAF_talk_disgust.wav', 'YAF_tip_disgust.wav', 'YAF_pick_disgust.wav', 'YAF_third_disgust.wav', 'YAF_rose_disgust.wav', 'YAF_nice_disgust.wav', 'YAF_knock_disgust.wav', 'YAF_sour_disgust.wav', 'YAF_soup_disgust.wav', 'YAF_thought_disgust.wav', 'YAF_loaf_disgust.wav', 'YAF_pike_disgust.wav', 'YAF_sure_disgust.wav', 'YAF_neat_disgust.wav', 'YAF_hire_disgust.wav', 'YAF_lose_disgust.wav', 'YAF_ton_disgust.wav', 'YAF_thin_disgust.wav', 'YAF_void_disgust.wav', 'YAF_join_disgust.wav', 'YAF_pass_disgust.wav', 'YAF_numb_disgust.wav', 'YAF_kill_disgust.wav', 'YAF_seize_disgust.wav', 'YAF_when_disgust.wav', 'YAF_week_disgust.wav', 'YAF_size_disgust.wav', 'YAF_sell_disgust.wav', 'YAF_peg_disgust.wav', 'YAF_raise_disgust.wav', 'YAF_lore_disgust.wav', 'YAF_kick_disgust.wav', 'YAF_jail_disgust.wav', 'YAF_wheat_disgust.wav', 'YAF_sail_disgust.wav', 'YAF_perch_disgust.wav', 'YAF_keen_disgust.wav', 'YAF_turn_disgust.wav', 'YAF_mess_disgust.wav', 'YAF_late_disgust.wav', 'YAF_ring_disgust.wav', 'YAF_yes_disgust.wav', 'YAF_yearn_disgust.wav', 'YAF_wire_disgust.wav', 'YAF_young_disgust.wav', 'YAF_youth_disgust.wav', 'YAF_witch_disgust.wav', '0.jpg', '1.jpg', '2.jpg', '3.jpg', '4.jpg', '5.jpg', '6.jpg', '7.jpg', '8.jpg', '9.jpg', '10.jpg', '11.jpg', '12.jpg', '13.jpg', '14.jpg', '15.jpg', '16.jpg', '17.jpg', '18.jpg', '19.jpg', '20.jpg', '21.jpg', '22.jpg', '23.jpg', '24.jpg', '25.jpg', '26.jpg', '27.jpg', '28.jpg', '29.jpg', '30.jpg', '31.jpg', '32.jpg', '33.jpg', '34.jpg', '35.jpg', '36.jpg', '37.jpg', '38.jpg', '39.jpg', '40.jpg', '41.jpg', '42.jpg', '43.jpg', '44.jpg', '45.jpg', '46.jpg', '47.jpg', '48.jpg', '49.jpg', '50.jpg', '51.jpg', '52.jpg', '53.jpg', '54.jpg', '55.jpg', '56.jpg', '57.jpg', '58.jpg', '59.jpg', '60.jpg', '61.jpg', '62.jpg', '63.jpg', '64.jpg', '65.jpg', '66.jpg', '67.jpg', '68.jpg', '69.jpg', '70.jpg', '71.jpg', '72.jpg', '73.jpg', '74.jpg', '75.jpg', '76.jpg', '77.jpg', '78.jpg', '79.jpg', '80.jpg', '81.jpg', '82.jpg', '83.jpg', '84.jpg', '85.jpg', '86.jpg', '87.jpg', '88.jpg', '89.jpg', '90.jpg', '91.jpg', '92.jpg', '93.jpg', '94.jpg', '95.jpg', '96.jpg', '97.jpg', '98.jpg', '99.jpg', '100.jpg', '101.jpg', '102.jpg', '103.jpg', '104.jpg', '105.jpg', '106.jpg', '107.jpg', '108.jpg', '109.jpg', '110.jpg', '111.jpg', '112.jpg', '113.jpg', '114.jpg', '115.jpg', '116.jpg', '117.jpg', '118.jpg', '119.jpg', '120.jpg', '121.jpg', '122.jpg', '123.jpg', '124.jpg', '125.jpg', '126.jpg', '127.jpg', '128.jpg', '129.jpg', '130.jpg', '131.jpg', '132.jpg', '133.jpg', '134.jpg', '135.jpg', '136.jpg', '137.jpg', '138.jpg', '139.jpg', '140.jpg', '141.jpg', '142.jpg', '143.jpg', '144.jpg', '145.jpg', '146.jpg', '147.jpg', '148.jpg', '149.jpg', '150.jpg', '151.jpg', '152.jpg', '153.jpg', '154.jpg', '155.jpg', '156.jpg', '157.jpg', '158.jpg', '159.jpg', '160.jpg', '161.jpg', '162.jpg', '163.jpg', '164.jpg', '165.jpg', '166.jpg', '167.jpg', '168.jpg', '169.jpg', '170.jpg', '171.jpg', '172.jpg', '173.jpg', '174.jpg', '175.jpg', '176.jpg', '177.jpg', '178.jpg', '179.jpg', '180.jpg', '181.jpg', '182.jpg', '183.jpg', '184.jpg', '185.jpg', '186.jpg', '187.jpg', '188.jpg', '189.jpg', '190.jpg', '191.jpg', '192.jpg', '193.jpg', '194.jpg', '195.jpg', '196.jpg', '197.jpg', '198.jpg', '199.jpg', '200.jpg', '201.jpg', '202.jpg', '203.jpg', '204.jpg', '205.jpg', '206.jpg', '207.jpg', '208.jpg', '209.jpg', '210.jpg', '211.jpg', '212.jpg', '213.jpg', '214.jpg', '215.jpg', '216.jpg', '217.jpg', '218.jpg', '219.jpg', '220.jpg', '221.jpg', '222.jpg', '223.jpg', '224.jpg', '225.jpg', '226.jpg', '227.jpg', '228.jpg', '229.jpg', '230.jpg', '231.jpg', '232.jpg', '233.jpg', '234.jpg', '235.jpg', '236.jpg', '237.jpg', '238.jpg', '239.jpg', '240.jpg', '241.jpg', '242.jpg', '243.jpg', '244.jpg', '245.jpg', '246.jpg', '247.jpg', '248.jpg', '249.jpg', '250.jpg', '251.jpg', '252.jpg', '253.jpg', '254.jpg', '255.jpg', '256.jpg', '257.jpg', '258.jpg', '259.jpg', '260.jpg', '261.jpg', '262.jpg', '263.jpg', '264.jpg', '265.jpg', '266.jpg', '267.jpg', '268.jpg', '269.jpg', '270.jpg', '271.jpg', '272.jpg', '273.jpg', '274.jpg', '275.jpg', '276.jpg', '277.jpg', '278.jpg', '279.jpg', '280.jpg', '281.jpg', '282.jpg', '283.jpg', '284.jpg', '285.jpg', '286.jpg', '287.jpg', '288.jpg', '289.jpg', '290.jpg', '291.jpg', '292.jpg', '293.jpg', '294.jpg', '295.jpg', '296.jpg', '297.jpg', '298.jpg', '299.jpg', '300.jpg', '301.jpg', '302.jpg', '303.jpg', '304.jpg', '305.jpg', '306.jpg', '307.jpg', '308.jpg', '309.jpg', '310.jpg', '311.jpg', '312.jpg', '313.jpg', '314.jpg', '315.jpg', '316.jpg', '317.jpg', '318.jpg', '319.jpg', '320.jpg', '321.jpg', '322.jpg', '323.jpg', '324.jpg', '325.jpg', '326.jpg', '327.jpg', '328.jpg', '329.jpg', '330.jpg', '331.jpg', '332.jpg', '333.jpg', '334.jpg', '335.jpg', '336.jpg', '337.jpg', '338.jpg', '339.jpg', '340.jpg', '341.jpg', '342.jpg', '343.jpg', '344.jpg', '345.jpg', '346.jpg', '347.jpg', '348.jpg', '349.jpg', '350.jpg', '351.jpg', '352.jpg', '353.jpg', '354.jpg', '355.jpg', '356.jpg', '357.jpg', '358.jpg', '359.jpg', '360.jpg', '361.jpg', '362.jpg', '363.jpg', '364.jpg', '365.jpg', '366.jpg', '367.jpg', '368.jpg', '369.jpg', '370.jpg', '371.jpg', '372.jpg', '373.jpg', '374.jpg', '375.jpg', '376.jpg', '377.jpg', '378.jpg', '379.jpg', '380.jpg', '381.jpg', '382.jpg', '383.jpg', '384.jpg', '385.jpg', '386.jpg', '387.jpg', '388.jpg', '389.jpg', '390.jpg', '391.jpg', '392.jpg', '393.jpg', '394.jpg', '395.jpg', '396.jpg', '397.jpg', '398.jpg', '399.jpg']\n"
          ],
          "name": "stdout"
        }
      ]
    },
    {
      "cell_type": "code",
      "metadata": {
        "id": "zUju_jqUETeK",
        "colab_type": "code",
        "colab": {}
      },
      "source": [
        "#naming files in test in numbers\n",
        "# import os\n",
        "# os.chdir('/content/gdrive/My Drive/TESS Toronto emotional speech set data/test')\n",
        "# count=0\n",
        "# for file in os.listdir():\n",
        "#   src=file\n",
        "#   dst=str(count)+\".jpg\"\n",
        "#   os.rename(src,dst)\n",
        "#   count=count+1\n"
      ],
      "execution_count": 0,
      "outputs": []
    },
    {
      "cell_type": "markdown",
      "metadata": {
        "id": "4P5wAXmgy4py",
        "colab_type": "text"
      },
      "source": [
        "# vgg16"
      ]
    },
    {
      "cell_type": "code",
      "metadata": {
        "id": "ZF6A_fTCy4pz",
        "colab_type": "code",
        "colab": {}
      },
      "source": [
        "from keras.preprocessing.image import ImageDataGenerator\n",
        "from keras import Sequential\n",
        "from keras.applications import VGG16\n",
        "from keras.layers import Conv2D,MaxPooling2D\n",
        "from keras.layers import Dense,Flatten,Dropout\n",
        "from keras import backend as K\n",
        "img_width=224\n",
        "img_height=224"
      ],
      "execution_count": 0,
      "outputs": []
    },
    {
      "cell_type": "code",
      "metadata": {
        "id": "D_lMXS4iy4p3",
        "colab_type": "code",
        "colab": {}
      },
      "source": [
        "train_dir=r'/content/gdrive/My Drive/TESS Toronto emotional speech set data/train/' #change as per your system\n",
        "test_dir=r'/content/gdrive/My Drive/TESS Toronto emotional speech set data/test/'\n",
        "if K.image_data_format()=='channels_first':\n",
        "    input_shape=(3,img_width,img_height)\n",
        "else:\n",
        "    input_shape=(img_width,img_height,3)\n"
      ],
      "execution_count": 0,
      "outputs": []
    },
    {
      "cell_type": "code",
      "metadata": {
        "id": "DuAFkVfSy4qA",
        "colab_type": "code",
        "outputId": "70ee5eb9-4168-4478-99b0-b8210b408acd",
        "colab": {
          "base_uri": "https://localhost:8080/",
          "height": 51
        }
      },
      "source": [
        "vgg16 = VGG16(weights='imagenet', include_top=False)\n",
        "vgg16.trainable=False\n"
      ],
      "execution_count": 0,
      "outputs": [
        {
          "output_type": "stream",
          "text": [
            "Downloading data from https://github.com/fchollet/deep-learning-models/releases/download/v0.1/vgg16_weights_tf_dim_ordering_tf_kernels_notop.h5\n",
            "58892288/58889256 [==============================] - 1s 0us/step\n"
          ],
          "name": "stdout"
        }
      ]
    },
    {
      "cell_type": "code",
      "metadata": {
        "id": "OhwG7Kbdy4qD",
        "colab_type": "code",
        "colab": {}
      },
      "source": [
        "from keras.layers import GlobalAveragePooling2D\n",
        "model=Sequential([vgg16,GlobalAveragePooling2D(),Dense(7,activation='softmax')])"
      ],
      "execution_count": 0,
      "outputs": []
    },
    {
      "cell_type": "code",
      "metadata": {
        "id": "x5lKHeY-y4qG",
        "colab_type": "code",
        "outputId": "744c26d3-7578-41bb-a0f1-c97fbfcfa70f",
        "colab": {
          "base_uri": "https://localhost:8080/",
          "height": 255
        }
      },
      "source": [
        "model.summary()"
      ],
      "execution_count": 0,
      "outputs": [
        {
          "output_type": "stream",
          "text": [
            "Model: \"sequential_1\"\n",
            "_________________________________________________________________\n",
            "Layer (type)                 Output Shape              Param #   \n",
            "=================================================================\n",
            "vgg16 (Model)                (None, None, None, 512)   14714688  \n",
            "_________________________________________________________________\n",
            "global_average_pooling2d_1 ( (None, 512)               0         \n",
            "_________________________________________________________________\n",
            "dense_1 (Dense)              (None, 7)                 3591      \n",
            "=================================================================\n",
            "Total params: 14,718,279\n",
            "Trainable params: 3,591\n",
            "Non-trainable params: 14,714,688\n",
            "_________________________________________________________________\n"
          ],
          "name": "stdout"
        }
      ]
    },
    {
      "cell_type": "code",
      "metadata": {
        "id": "PQmFIXmTy4qL",
        "colab_type": "code",
        "colab": {}
      },
      "source": [
        "model.compile(loss='categorical_crossentropy',optimizer='adam',metrics=['accuracy'])"
      ],
      "execution_count": 0,
      "outputs": []
    },
    {
      "cell_type": "code",
      "metadata": {
        "id": "tT_U8k1Ty4qP",
        "colab_type": "code",
        "colab": {}
      },
      "source": [
        "train_datagen=ImageDataGenerator(rescale=1./255,\n",
        "                                zoom_range=0.2)\n",
        "test_datagen=ImageDataGenerator(rescale=1./255)\n"
      ],
      "execution_count": 0,
      "outputs": []
    },
    {
      "cell_type": "code",
      "metadata": {
        "id": "fmZhKwQ6y4qS",
        "colab_type": "code",
        "outputId": "825cd832-1a5f-4d94-b315-84906eefceb7",
        "colab": {
          "base_uri": "https://localhost:8080/",
          "height": 34
        }
      },
      "source": [
        "train_generator=train_datagen.flow_from_directory(train_dir,\n",
        "                                                 target_size=(img_width,img_height),\n",
        "                                                 batch_size=10)"
      ],
      "execution_count": 0,
      "outputs": [
        {
          "output_type": "stream",
          "text": [
            "Found 2464 images belonging to 7 classes.\n"
          ],
          "name": "stdout"
        }
      ]
    },
    {
      "cell_type": "code",
      "metadata": {
        "id": "Mlku6tNHy4qW",
        "colab_type": "code",
        "outputId": "568509b9-d0f7-4b2d-8e52-a42e65adb608",
        "colab": {
          "base_uri": "https://localhost:8080/",
          "height": 34
        }
      },
      "source": [
        "test_generator=test_datagen.flow_from_directory(test_dir,\n",
        "                                                 target_size=(img_width,img_height),\n",
        "                                                 batch_size=10)"
      ],
      "execution_count": 0,
      "outputs": [
        {
          "output_type": "stream",
          "text": [
            "Found 336 images belonging to 7 classes.\n"
          ],
          "name": "stdout"
        }
      ]
    },
    {
      "cell_type": "code",
      "metadata": {
        "id": "cWZVibB9y4qb",
        "colab_type": "code",
        "outputId": "72fc2ff0-44df-4838-a6bb-73ff350866db",
        "colab": {
          "base_uri": "https://localhost:8080/",
          "height": 1000
        }
      },
      "source": [
        "model.fit_generator(train_generator,steps_per_epoch=2450//10,epochs=100,validation_data=test_generator,\n",
        "                   validation_steps=350//10)\n"
      ],
      "execution_count": 0,
      "outputs": [
        {
          "output_type": "stream",
          "text": [
            "Epoch 1/100\n",
            "245/245 [==============================] - 1427s 6s/step - loss: 1.8373 - accuracy: 0.3187 - val_loss: 1.6212 - val_accuracy: 0.5173\n",
            "Epoch 2/100\n",
            "245/245 [==============================] - 1433s 6s/step - loss: 1.5821 - accuracy: 0.6088 - val_loss: 1.3190 - val_accuracy: 0.6301\n",
            "Epoch 3/100\n",
            "245/245 [==============================] - 1430s 6s/step - loss: 1.3968 - accuracy: 0.6751 - val_loss: 1.4090 - val_accuracy: 0.7168\n",
            "Epoch 4/100\n",
            "245/245 [==============================] - 1436s 6s/step - loss: 1.2523 - accuracy: 0.7279 - val_loss: 1.0722 - val_accuracy: 0.8237\n",
            "Epoch 5/100\n",
            "245/245 [==============================] - 1423s 6s/step - loss: 1.1429 - accuracy: 0.7668 - val_loss: 1.1378 - val_accuracy: 0.8121\n",
            "Epoch 6/100\n",
            "245/245 [==============================] - 1424s 6s/step - loss: 1.0494 - accuracy: 0.7706 - val_loss: 1.1733 - val_accuracy: 0.8526\n",
            "Epoch 7/100\n",
            "245/245 [==============================] - 1431s 6s/step - loss: 0.9731 - accuracy: 0.7966 - val_loss: 0.6857 - val_accuracy: 0.8873\n",
            "Epoch 8/100\n",
            "245/245 [==============================] - 1434s 6s/step - loss: 0.9073 - accuracy: 0.8167 - val_loss: 1.1492 - val_accuracy: 0.8382\n",
            "Epoch 9/100\n",
            "245/245 [==============================] - 1426s 6s/step - loss: 0.8492 - accuracy: 0.8245 - val_loss: 0.9547 - val_accuracy: 0.9017\n",
            "Epoch 10/100\n",
            "245/245 [==============================] - 1433s 6s/step - loss: 0.7986 - accuracy: 0.8359 - val_loss: 0.6403 - val_accuracy: 0.8873\n",
            "Epoch 11/100\n",
            "245/245 [==============================] - 1424s 6s/step - loss: 0.7458 - accuracy: 0.8577 - val_loss: 0.8859 - val_accuracy: 0.9046\n",
            "Epoch 12/100\n",
            "245/245 [==============================] - 1426s 6s/step - loss: 0.7145 - accuracy: 0.8605 - val_loss: 0.5996 - val_accuracy: 0.9104\n",
            "Epoch 13/100\n",
            "245/245 [==============================] - 1436s 6s/step - loss: 0.6731 - accuracy: 0.8719 - val_loss: 0.5042 - val_accuracy: 0.9133\n",
            "Epoch 14/100\n",
            "245/245 [==============================] - 1435s 6s/step - loss: 0.6490 - accuracy: 0.8731 - val_loss: 0.6040 - val_accuracy: 0.9249\n",
            "Epoch 15/100\n",
            "245/245 [==============================] - 1431s 6s/step - loss: 0.6115 - accuracy: 0.8884 - val_loss: 0.7867 - val_accuracy: 0.9017\n",
            "Epoch 16/100\n",
            "245/245 [==============================] - 1436s 6s/step - loss: 0.5844 - accuracy: 0.8924 - val_loss: 0.5964 - val_accuracy: 0.9191\n",
            "Epoch 17/100\n",
            "245/245 [==============================] - 1436s 6s/step - loss: 0.5536 - accuracy: 0.9008 - val_loss: 0.5004 - val_accuracy: 0.9422\n",
            "Epoch 18/100\n",
            "245/245 [==============================] - 1426s 6s/step - loss: 0.5357 - accuracy: 0.9011 - val_loss: 0.3942 - val_accuracy: 0.9335\n",
            "Epoch 19/100\n",
            "245/245 [==============================] - 1435s 6s/step - loss: 0.5114 - accuracy: 0.9063 - val_loss: 0.4007 - val_accuracy: 0.9277\n",
            "Epoch 20/100\n",
            "245/245 [==============================] - 1432s 6s/step - loss: 0.4936 - accuracy: 0.9124 - val_loss: 0.5900 - val_accuracy: 0.9422\n",
            "Epoch 21/100\n",
            "245/245 [==============================] - 1441s 6s/step - loss: 0.4760 - accuracy: 0.9153 - val_loss: 0.4317 - val_accuracy: 0.9364\n",
            "Epoch 22/100\n",
            "245/245 [==============================] - 1441s 6s/step - loss: 0.4526 - accuracy: 0.9268 - val_loss: 0.3345 - val_accuracy: 0.9335\n",
            "Epoch 23/100\n",
            "245/245 [==============================] - 1439s 6s/step - loss: 0.4407 - accuracy: 0.9178 - val_loss: 0.2210 - val_accuracy: 0.9335\n",
            "Epoch 24/100\n",
            "245/245 [==============================] - 1443s 6s/step - loss: 0.4143 - accuracy: 0.9296 - val_loss: 0.2704 - val_accuracy: 0.9422\n",
            "Epoch 25/100\n",
            "245/245 [==============================] - 1440s 6s/step - loss: 0.4065 - accuracy: 0.9255 - val_loss: 0.4296 - val_accuracy: 0.9538\n",
            "Epoch 26/100\n",
            "245/245 [==============================] - 1439s 6s/step - loss: 0.4029 - accuracy: 0.9288 - val_loss: 0.5242 - val_accuracy: 0.9509\n",
            "Epoch 27/100\n",
            "245/245 [==============================] - 1437s 6s/step - loss: 0.3764 - accuracy: 0.9341 - val_loss: 0.2505 - val_accuracy: 0.9538\n",
            "Epoch 28/100\n",
            "245/245 [==============================] - 1431s 6s/step - loss: 0.3709 - accuracy: 0.9362 - val_loss: 0.1584 - val_accuracy: 0.9393\n",
            "Epoch 29/100\n",
            "245/245 [==============================] - 1431s 6s/step - loss: 0.3519 - accuracy: 0.9362 - val_loss: 0.1593 - val_accuracy: 0.9480\n",
            "Epoch 30/100\n",
            "245/245 [==============================] - 1435s 6s/step - loss: 0.3481 - accuracy: 0.9419 - val_loss: 0.3520 - val_accuracy: 0.9538\n",
            "Epoch 31/100\n",
            " 55/245 [=====>........................] - ETA: 16:17 - loss: 0.3467 - accuracy: 0.9455"
          ],
          "name": "stdout"
        }
      ]
    },
    {
      "cell_type": "code",
      "metadata": {
        "id": "2UxHuNGGy4qh",
        "colab_type": "code",
        "colab": {}
      },
      "source": [
        ""
      ],
      "execution_count": 0,
      "outputs": []
    }
  ]
}